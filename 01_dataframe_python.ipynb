{
  "nbformat": 4,
  "nbformat_minor": 0,
  "metadata": {
    "colab": {
      "provenance": [],
      "authorship_tag": "ABX9TyNGozCvExe9y4WhW4cK8tNo",
      "include_colab_link": true
    },
    "kernelspec": {
      "name": "python3",
      "display_name": "Python 3"
    },
    "language_info": {
      "name": "python"
    }
  },
  "cells": [
    {
      "cell_type": "markdown",
      "metadata": {
        "id": "view-in-github",
        "colab_type": "text"
      },
      "source": [
        "<a href=\"https://colab.research.google.com/github/maxTech2019/curso_python/blob/master/01_dataframe_python.ipynb\" target=\"_parent\"><img src=\"https://colab.research.google.com/assets/colab-badge.svg\" alt=\"Open In Colab\"/></a>"
      ]
    },
    {
      "cell_type": "markdown",
      "source": [
        "# DataFrame en Python."
      ],
      "metadata": {
        "id": "8NazIwZPJDLK"
      }
    },
    {
      "cell_type": "markdown",
      "source": [
        "Un **DataFrame** es una estructura de `datos bidimensional` en forma de tabla, utilizada en la biblioteca Pandas de Python. Está compuesto por filas y columnas, similar a una hoja de cálculo o una tabla SQL. Los DataFrames son ampliamente utilizados en el análisis de datos, manipulación de datos y aprendizaje automático."
      ],
      "metadata": {
        "id": "QKHiEaNQFgtJ"
      }
    },
    {
      "cell_type": "markdown",
      "source": [
        "## Estructura de un DataFrame:\n",
        "\n",
        "1. **Filas:** Cada fila representa una observación o registro de datos.\n",
        "2. **Columnas:** Cada columna representa una variable o característica.\n",
        "3. **Índices:** Los DataFrames tienen índices de fila y columna. Los índices de fila pueden ser numéricos (como en una serie de Python) o etiquetas personalizadas. Los índices de columna son etiquetas que identifican cada columna."
      ],
      "metadata": {
        "id": "7J5qeTJTJgxa"
      }
    },
    {
      "cell_type": "markdown",
      "source": [
        "Ejemplo de un dataframe en python:"
      ],
      "metadata": {
        "id": "vfGcsoyuJHjC"
      }
    },
    {
      "cell_type": "markdown",
      "source": [
        "![DataFrame-python.png](data:image/png;base64,iVBORw0KGgoAAAANSUhEUgAAANgAAABoCAYAAACT6j6YAAAAAXNSR0IArs4c6QAAAARnQU1BAACxjwv8YQUAAAAJcEhZcwAADsMAAA7DAcdvqGQAABngSURBVHhe7Z0JeFRFtscPZKU7IYGEsAQIsiUBFAgICCiCQNhEdgQGR0VEEBRHVMan4/qpo8/njD43nvhcno4DOKifyIALIuAChBACBLKD7IEkkD2dwKv/6VuXmybpNOm+SQfqx9dfum/duktVnVOnbnP+3SSmV/8LpFAoTKGp9lehUJiAMjCFwkSUgSkUJqIMTKEwEWVgCoWJKANTKExEGZhCYSLKwBQKE1EGplCYiDIwhcJElIEpFCaiDEyhMBFlYAqFifiER7R7Wnt/RTFt+u00+MZhtCthh7al8XHPgvupc+cutH//Xm2L67hT93K5rndfWnD/A9Ste0yd2zu4eXNadP9S8vMPoMOHsrStroHzz73zHsrKyqDCggJtq3fQoDPYjcNG0HMvvMLGIMF7DA53OX/+PF24cF775B1gIPzl2Rf4nuXrz088Q23bRWp7VAXXj/uoC+7UdQTXh+uU12zsL3Dh/AWc0L32Rn3us0ptg+vI8/PLy2hQA0NjFhcVU0REG/ZgwBsNw1NgIBQVFtKrf32OHloyn19/eXwZHTt6RNvD+4BTmH/f/ZSyL1m/5uLiYt4uSUraRcuXPUBvv/GatkUhadCEy6E3DaN+cQOo3FZOe/fuoS2bN9GUqTOoRVgYrVzxNu+D2SwqqhO/t1XY6IvPV9OepET2otagYGoX2Z7LkpN208AbBtOhQ9n03rtv6sdp0qSpXn/jhvXiHD+wMc+7ZyEliHAmOiaWy43HBjh+7779+D0G1Afvr6Djx47y57py7bV9KH7sePrk4/+l48ePaVsvIq8rLDxc20KUKK7xX5+v4veY8UfHj+X3QN4PqK1uXUH7nz9fSSveep18/fx5W4Voq6ZNfcSraZX+SUpMoDWrP+P3AG0Y2jKM+wPAKEeP0e5ftCVmxjvvvpcsFguXgw3//pq2/rT5kvs5c/o0rXzvbSo4d44/O7ZFUXERfbhS9FE17dqQeMVDjl9/3UbXXNNF+3QRNiKLlZ56Yhl7zj2iA8ffOok7BjNdVKdraP26r6hYzApdunaj1f/8hEJDQvWQq1OnznQm5xTX/fqrf9FQsSbjMi0cQQfJ8iO/H6YBgwZzPXRet+gYfaaB95458w/6LGsWM2fNpYKCc3xOvDIz07USe5gWGRmpl1W5H4GzunUFx27VqhUdSNmnGxfw9fVj4wJvvf6qfj7HkNQxGjGGcmhLtKmcGdHHOadOansSDRN9sGH913oZ+is+fhyXwVBvFPf+8Qf/w+X4ayu3cZm34RUGdvzoUQqyWquEHehcDPLt238h4UApKDhUeLd1bExdu3XnfY4cOUxpaQf4PfbjDgRaLI5Oh9GhbnZWFgmz0usCYzkGEYwZHR8tzrvph+8oL/8sl/287ScxwHzpGmGw7mKxWmjRkof09czSPz3G58S9wzl8uXYNnxMvOYgBwsiPP1ypl+F+ysvLKTy8Va116wwckfjj7Fj+AYF1Ol8fER3A+DBjob7V2pyaiH+SL9aupn3C+FCG/j98OJtCWrTkMjjC/aLswIEDXB4QYDHU9C68wsAKiwopUcTx3QyDH51bLrxSwbmzIpC1Nx88J5BesYnY3lSEgMDHB3+rNjM6XXpehBAlhUV6XXDwwH69HOHpyy8+w+e1WoNo/ITb6PkX/5ONYMnSR9gwNLt1i6KioiprsL++8DQVnD2rOwc/P/s9OoJ7Xbj4omEufvBhcZ0itBLVaqvrjch+kH3qSFy/AfT08y/Z71f0Q1z/AWKr/T5RF33rESdiMl5xhTCLzLQ0at8hSniki2GYn78fhWpeCwSJNVezIKv26fIIFnX9/P0pPy9P21LVM/v4+FJAYDP7B2FJCMGkEeCFRTwW8+4CL93MEsSel70vzqk5EGcgXEa4Jo0Tf2GsZlJQWMBOKSamp7alfkD0gqUAlgSy/XeKCKUx4jUu4MSJ4/z9R+vWbfjzMbEIPnXyBPUXnkyufQYPvYk7vC7ftaCuTYRUWVmZ2pbqwSIa4ciIkWNEiNpTNwSLNdhUj5mTc5J8hUPp2j2aP8OgsIaUYD1TLO69QsxWuJ5pt88VM5jd2dRWt64UirbYvuNXXutiXSqZcOvkKuG8M4JEu6H/YDQTbpvM1wng6CxBQfrae+bsOyg8IoLfw8HhX87pHL7XwUOHU+++/e1lgtzTp6lDx07VHtfbaNAvmjtGdaJ2bSMpMXEnryd8mvrQdX368mI9cddO+u2XreJzHHuzEbeMpuYhIfTByhV0Nj+fYnv0EjOBhfbt3UN94/rT8eNHqay0jNdYyXt2U4cOHXkf1MMLocg7b/2dSoqLRcweoNc5fOiQdjUaYjbZK+pHRLSm2yZP0+v37h3Ha4LysjJtx8sHzuO6Pn1o0A1D9ePifUZ6Gj9Vq6yspLHjbuXtpeI86akH2KhTxPrwzJkcGnDDEBo+YhSXw/n4ixkZdTMy0pzWrTOiLQ5lZ1JJSTGNHT9Rv+acnBP0w/ff8hPcJQ8uo/gx4yk0tAUPdpSHtQzjL7izszOon3CQo+LHUZ+4fpSw/TcKE2tG9E96Wiq1Eu9Hxo/lOpnpqVRSWkK5Z06LPk3mspuEUaPsms5dxHVkiT70pcSEnXxNxuN+/+0Gat2qNfdPoZh1vYkGfUxfWVlBFTabGPCB3Jnw0qUlRWwMWDyD8rJSYXyl/N7Hx48Cm4kFrdi3wlbO+/v7B1CZ2MdXrD/wSB77I+yqrLBRaWkx1wN+fgH6eeAhZR2EhtWB49dYv47I+8Njb4nxntAeJcWFvN3fP1CfMbFOvCCuuVQM9MpK+9OygABxj8Ko0E7Yz1lddzEeGwQGWqq9Joksl+1ss5WJ6/Hha+X+Fv0j+1C2MeqgfXyEEaFPjGVoIxgXzsfjwuG4OB6OizIc15tQwqMKhYl4zRpMobgSUQamUJiIMjCFwkSUgSkUJqIMTKEwEWVgCoWJKANTKExEGZhCYSLKwBQKE1EGplCYiDIwhcJErljZNkX9g/SRy5VeQ9qLK5Jv9SlD50lc/s++RpERR4GYuoIOcRRqcRQ3uZrAYJs0dTr5aVm+RlEbpII4CsR4oq1kvzoKAoHLPXZwcDDdPe8+Sti1nYVrXAFCQJOnTaejR4/oQkfVMe/ehZR35ozbIj71jUshIjreKDJiFJ9xB6TKI2XemLUKcROkI1xtYGBDxGbVJx9xWyCjeviIkRcTG0WbQI+kOrkBd0CWNPLr8BdAdwRpPEgHqY9+uNIl31wKEW+dNJUKCs+xl0PuTW7uGerb73rW+Dt8KFvbqw40aaLnfuHVs+e1FBISqidgIjPXqM6LwWZUcIWBy4Q/JOZ16dpd3xd1e/TsxfUnT53B5RUVlZetGltflJeW0tatP4q2zdPymyr4fk+ePMFtjNmhZ6/rKDX1IGuVoL1Yz8LN/KfY2J5UbrNRkDh+etpB+zlPHKf27TuwZgkSGNGWs/7wR27DG4cNp7zcXL4uYOyDIaKtLVYrZaSnciIrZkfI550/f4HmLVhII0eNqdJHCPumTJtJ8WMncIKrMfyT4aZMtkVC54njx9xLIG0Aap3BcKNQW4LqEpL48Hn2nLt4W6tWWoq3SSABzyhSY5T9AjcPv4XeffPv7M3h2eGFZWo76kLXUMqyYXbsF9efr98rEYaCJEqZKMl/2XbMn0WKhPNEpnZsTE825BzRZhIYHHQh5ayJ6GXEiFHcjng5k16DsCzC/1tGxdMbr73CERDGjJyVnUm+mSFD1xDUHiJqAxodDo/z6PIn6dChTB6wLVqGaTs1DB998B6dEbMpdBsgsQavKkMdYJRlS09L49AnyBqklXo34ydOvkR/BII/UvINEtxyoLpDizCsf5tQZkYa9R8wkM6JkBOzqWS3MKivvvyc2xCvtNRUvR1rk14DNls5rV3zTzEz59LRY8c4zIX0A8AsjHrSqUhwX6bI0DUALl91/JgJ+myAQRse0YZyT+dopQ0DhGmktBr+soCKYd2ATpEp80gtbywgJIOjgAIuhG4ARICeevwR3aNvXL+OJk2Z7gEjs7cXNDIsIiqBMjJmMAgEgZDQUFr26BO6XNztc+7QBWZqk14D+Xn59PuRw5zKXyTC+pdfepY2b/pOK62exihDVxO1GhieIkG30DgbwOvBg53KuRgO1DcYWHgIYJRXa6xhhBFeO4q11to1q1hVSa6xMECbCQOQHj0rM4OKRL/oYqtucPLUCVb1ev6Z/2BBGpwLEnfhIpxDqIYHT1Jd+XJVdHH1TbV74DBYrC9r0kG5Eql9BhONkpKylzp37krDxYwBEBo0s1ooXYQL7oAF8qw5f+T3iOchxQXJNOOj4ZpkvzCw0NHQBsSAGzthCl9jY0Ya16pPP+IFvzMBFzx4qhD3n5nlvlPBefCC+E6VUIxXB+fZwUKnp21kRxo3fhLrVQKn0mtuYJYMXUPg0lPE7Kyq0l0Y7CvefJ1DCWeDoDZgSCGhIXTvfYtpyNBhdEoskD8SHrKp5uGcyX6lpR2k6NhYGnrjzfanTCJmz8vLZa+OJ02xPXqyrBtkvgAk06Skm7dJewG0KR4GBAYGslTdLSPj+b6kXNzAQUNo/oJFvA2v/Pxc+turL4mBL8K0OvYBHNfAgUMuka/Dgw5ECJCEwxPMQYOH0sjRY7mPMjPSWQC2Nuk1HM9Rls+I8emjo+Tbb7/9wopZHpehawBc/qLZKN1llBpzF0e5MSx8dcR6ypnsl1HSDbJqiEegrYh1ly7rph0P76Wkmyeu29PUJIEm5eIqxRRilE67pK3qgta+jvJ1uJYyYSjy+EapuYBAC1VWVOjt6Ex6DX1rlOUzUpvkm5kydPWJkm1TKEzE5aeICoXi8lEGplCYiDIwhcJElIEpFCaiDEyhMBFlYAqFiSgDUyhMRBmYQmEiysAUChNRBqZQmIgyMIXCRNT/RVR4JUhRgeQDQBLoe+++ye8bG5dlYPKmjXJinkBKhzXmhvQEkGSIiuqkfaoq2waM5Z6St0NailEqDiQlJtCa1Z9pnxoG+b/058y9m8IjWjuVdPNmXAoRkTe09E+PkcUaxAmOEDPxJNHRMbT1p00spIO8oKsVKQIjM4chlSclAeCEkPyIMmQXI8sY2cbuwomrZTZdkg9/u0fHekCKwD2QloJE2sae/exSwuXEiZMp5cB+2v7rNorrP4CT8IwJeu4Agxow4AbalbCTIlq3pgvin5SC4wxfJ9JrxqQ9lBklwRojyKNCDhZefmKAIbs5Iy2VTp06QVmZaaL9f6ZmliBhFETtIiNZoWn//mRWhKorSESFQWVmZFB+fj4nN17bqzfl5p2p0g/VybbB8Uol39FjxnEfOZN1Q32ZQIprdixDsqWjcq9j4qzEeE14yXGBa5o/fxHnK86Zeycfe9ANQzl5FFJ/AM7KmLxqppyfSzPYZ59+xDOMM3GTuoIsYwisZGdnciZstOhsSW3Sa85k2xo73cSsXiHaRUoCwJPrCZZN7Cn+SJjklwfp0rkr63GkHTzAnzGT1STbhnNjJkV4L/voyO+HacCgwVwXBgQ1YinrhpcUS0V9o+Qb+g/37Er/YR/sK0VYq4i0imvy9fPlz1CzwmwPJavBQ27kurimSOGc5PWgLgRfsd0MXDIwTNdmTdUwKOhwQHEoVXSqTB+XOJNeq022rbGBQYdQHOpNo+PH0fYdv3K7OIKB1Ou6Plzu7hoM+Pn70oxZc/i802+fQ9u2bWYRHOBMtk1i7CPoZyLUx71gUGNwS1k3vJAJDQcBBeGy8lK9DP2Xsm8vLxecgePCyWJf1EHdn7dtoSNHDlM34awZ4XM2/nsdz4ZIxMb4Cm3RkouOHT1CH3+4Ur+e7KwsljMIDzdn3DToY3oYEgwKhoVGzxbTNGYzzGoSZ9Jrtcm2NTaMUuLwvANF6Dxtxiyt1A7aDGq3e3YncFThmIpfF2zlFfoaDLPCzcNH0XTtvM5k2yRQAJZ9tGXzJnr5xWf4XjCoIZhTUlzCZUaai+O2i2xPjz/5nN5//a4fyEsEp2DWFK+c0xf1YOD88R7bJZjFWGZAbLfvZy/D+4WL7dqSeC1+8GGyWi2y2OM0qIHBkNCB6DTc7PLHn2JVImOYWBPw4lecbJvofHh4eFZ43kPC4YRonhfAuBBynTx5nNas+odHo4qAAIthJknWz+uKbJtRiQrXJGcp1s3E2OYB7ogwklMn9ePKl6sa9a1bt9Xe2Wc1qI+5AtZuiHJkeIm/eHBnFg1qYFikwyiMDQyDaSWMrLaY+EqUbTPSVnj3GLHAT9mfbP9sMK53/vtv+ozhaTCrxPbspZ/XmWxbbSAyiYzsUO26Ku3gQZZ8mzJ1lh6u4VWbkA9CYoR80TGx+hiRMoJbt/zIn52BdT3EXCvE+MH5pt0+V8xgVq3U87j0PRgaSP50kRF3vg+D18FP3ezY8Qv9vHWLttX+VOuu+ffRti2bWRKsRViY/h0Ifuomfux4VrzFz93cs2CRrsl3JieHSstK6ZRYhzW2n7gBaA/Hn3Ja9/WXoh1+5FlhqvC8GEiOuPudpPz5IDy1lCTs+I0+X/MZn7dHj140beZsXWV3754kat8xij4VfQD5O2c/V4TB3CO2B82YfYdeX35/B4luPDXEb4NBUViC+9mduPOStgDye1J8RzZtxmwOKYHNZqNV//g/lnRrro0r4zXhByjkOIoQzvvuexfxOhHACeDp9cb131By8m7e5klcMjCjhJYRPDKuc5gi4uWaJMMg5+UfEMChCTpJejW8N0qvOZNta3Ro7QGJOomxfY3yaEbc6gMB2tQoywakdBpwLK8i2yY+V9eHRhzrSxk6hI3VSbfx/Yg+dGwLYJSqM7YH1uaBzaz2ULWacYV95ThyPCd+cAMajCgzhrqeQv1XKYXCRBp0DaZQXOkoA1MoTEQZmEJhIsrAFAoTUQamUJiIMjCFwkSUgSkUJqIMTKEwEWVgCoWJKANTKExEGZhCYSJXzP9FlP8bPSFhh0cVrxTuAzUsaIh88flq2pOUqG2tqpLlqGQlFczAVSHb5u2SYfhlfGepE40J2S7n8s9WaWdj2pCtwnbJgK0rjv3gyWODefcupMjI9rR2zeoqKSEyG2LJQ4/R2by8KmlGV5VsGzq2PiTDpPAJvNfVCmZiiMpAPAbtjPQLACOAjJtsK4jPQDqgtsTU2kB9HGfj+nV60uvyh5ewFoenQJby8mUPUFLSLm2LHaSIIOmxujQRpMugzJ1UHG/AJdm2+pIMKyktZfGRDh076cc2ynM5ym9hcEjZryFi8FmsVlGeSpCUg1NAot15YcTzFiykkaPGVJF1w4BFsh+249jeIvkGibzg4Oas6hQh2icxcSeLstw6aSoVFJ7jhETkYuXmnqG+/a6nosJCXV6tLvSN608doqJo0/ffks1WwYMeMmx2HQs7NfUBto8WbS9l2OS+cltMTA9u4/ixE7g/MjPS9b4zEifuo7SkhBMmHalJtg3Hqy/pNXdwaQaDF5GJbkiU48aHZ9W8q6fAcWXSHF5oRKM8F7QiIPUFL4+XUfYLMys0HiQQR0VG7C2j4umN115hzw+nAMNy9No4PnQaGnrmxLXB4Wzc8A2VlV90XLhXZOBCsQntg8+z59zF23BP7pB6IIX/3j1/YbWzobM+SNm/jwc/FKIk0PI4lJ3JojeYBTEbou3hJDw1XnCd9Sm95g6X/RQRg8CTkmFGHI8NCa9NP3xnkOf6SYQOvtyhSJ9H2Cplv6zW5iRMXzuSHZuI46GNl5ubS0ePHWMJseYhIbqc2J49iVwXx8d5Itt35IHTUEBPcL8YwPD+VW5FczgwLqyFH13+pFj4Z7JOZIuWYdpOdQPybE89/ghrfSxavJTFh2BUEmd9kJycxPW6dY/mfTHAIee2batYA2vO0mINZkGdqj3jHvUtveYOl2Vg0vN7UjKsiibfzNmsZ4djBwtDsIrOGj/hNl2abcnSR0SHWbTxJmJVgTMx1Py8fPr9yGGeGaEv+PJLz9LmTd/x2gZCLhA/ASj39fXRB3JDgEGNGQkOo7o1CYgfM0EX+IQOYXhEG7tykxvg3puJ80JIR84GeJCC2ZxnTid9gOvErNq+QxTvC5Uw6HScPHkxkjADXHN9Sq+5g8sGBuMyQzLMqMmHF7wfH1sb7EZZNryqWyzXBMy/qXQC4i/WLvK6g4KC2YglEWKwNiSYKcJFmCp1AmFMkLB79M9/oT5inQSHYBT4bBEWzrPFqRzPDGb5wAEinjgPy7a50AcZaWksaIMZDXJ7KSl72QDMBMZfn9Jr7uCSgRmNywzJMKnJh5c0ACnPBXHRbtE99XKEHPCc+Xl5LPslVaVmzr6DB6QrHBTrDugxSpUm3B9kwMwIe13lrTf+q8ogxqCWuoE//vAtD1zI0g0X7QGkVFl6aip/9hSYjdq0acszY219ABBi5ublUoeoTmICueDRp481AQGb+pRecweXvgczUzJswsTJYjCtrVYyy1GeC8jv4M7m5/NTQlm2a+d2Cm3ZktJSD/D3YENvGkb94gbQ+yvfoQKHJ1foIEc5MaNUmTfgeP1Q9sLaccLEKVwOvXjo8kM63J0ZA7OB/EJXgrZYs+pTdqTO+kA6IyntlpyUSGvxXZZ2PdUdG9f9wfsr+D2ctsUiQjsD+B50w4ZvnMq21bf0mju4ZGBGiSwjnpAMKyst4dCtpnWH47mNsl/GMkiN4Xj4hRJcEwZkhc2m7+sI9jXKiRmlyryB6q7fKJ/n4+PHvyDibjhWXd86toWzPgCyLf39A5zWA/K6gaNkG+Bzi3W1M9m2+pZecwcl26ZQmIh3mbtCcYWhDEyhMBFlYAqFiSgDUyhMRBmYQmEiysAUChNRBqZQmIgyMIXCRJSBKRSmQfT/XKGvvmnR9dsAAAAASUVORK5CYII=)"
      ],
      "metadata": {
        "id": "J85cueSFI3ZC"
      }
    },
    {
      "cell_type": "markdown",
      "source": [
        "## Usos comunes de los DataFrames en Python:"
      ],
      "metadata": {
        "id": "v_aHQmSkJW2y"
      }
    },
    {
      "cell_type": "markdown",
      "source": [
        "1. **Análisis de datos**: Los DataFrames facilitan el análisis de datos al permitir operaciones como filtrado, ordenamiento, agrupación y aplicación de funciones estadísticas.\n",
        "\n",
        "2. **Manipulación de datos**: Pandas ofrece métodos y funciones para limpiar, transformar, unir y reestructurar datos en DataFrames.\n",
        "\n",
        "3. **Manejo de datos faltantes**: Pandas proporciona herramientas para detectar y manejar valores faltantes en DataFrames.\n",
        "\n",
        "4. **Integración con otras bibliotecas:** Los DataFrames se pueden usar como entrada para otras bibliotecas de Python, como scikit-learn para aprendizaje automático, matplotlib para visualización de datos, entre otras.\n",
        "\n",
        "5. **Lectura y escritura de datos**: Pandas permite leer y escribir DataFrames desde/hacia diversos formatos de archivo, como CSV, Excel, SQL, JSON, etc."
      ],
      "metadata": {
        "id": "_tv_j4vWJmH5"
      }
    },
    {
      "cell_type": "markdown",
      "source": [
        "## Creación de un DataFrame.\n",
        "\n"
      ],
      "metadata": {
        "id": "aDiu6nY9ALoi"
      }
    },
    {
      "cell_type": "markdown",
      "source": [
        "### DataFrame desde una Lista."
      ],
      "metadata": {
        "id": "FUtfAhf3KP8Z"
      }
    },
    {
      "cell_type": "code",
      "source": [
        "import pandas as pd\n",
        "\n",
        "# creando una lista de lista\n",
        "data = [['Alicia', 25],['Mayra', 38],[\"Zaida\", 33]]\n",
        "print(data)"
      ],
      "metadata": {
        "id": "HIrv60M2AW_G"
      },
      "execution_count": null,
      "outputs": []
    },
    {
      "cell_type": "code",
      "source": [
        "# dataFrame desde una lista\n",
        "dt = pd.DataFrame(data, columns=['Nombre', 'Edad'])\n",
        "print(dt)"
      ],
      "metadata": {
        "id": "8D03eFWzLLJZ"
      },
      "execution_count": null,
      "outputs": []
    },
    {
      "cell_type": "code",
      "source": [
        "# indexando el dataframe desde una lista\n",
        "dt = pd.DataFrame(data, columns=['Nombre', 'Edad'], index=['A', 'B', 'C'])\n",
        "print(dt)"
      ],
      "metadata": {
        "id": "r0XZcNksLWd5"
      },
      "execution_count": null,
      "outputs": []
    },
    {
      "cell_type": "markdown",
      "source": [
        "### DataFrame desde un Diccionario."
      ],
      "metadata": {
        "id": "Wh8ImZivLiQC"
      }
    },
    {
      "cell_type": "code",
      "source": [
        "# creando un diccionario\n",
        "persona ={\n",
        "    'Nombre': ['Alicia', 'Mayra', 'Zaida'],\n",
        "    'Edad': [25, 38, 33]\n",
        "}\n",
        "print(persona)"
      ],
      "metadata": {
        "id": "7fleVmn9MAqM"
      },
      "execution_count": null,
      "outputs": []
    },
    {
      "cell_type": "code",
      "source": [
        "# creando dataframe desde un diccionario\n",
        "df = pd.DataFrame(persona)\n",
        "print(df)\n",
        "\n"
      ],
      "metadata": {
        "id": "ENZowC8iMdvR"
      },
      "execution_count": null,
      "outputs": []
    },
    {
      "cell_type": "markdown",
      "source": [
        "### DataFrame desde un Arreglo NumPy."
      ],
      "metadata": {
        "id": "ajCkIzYDL42N"
      }
    },
    {
      "cell_type": "code",
      "source": [
        "# creando array con numpy\n",
        "import numpy as np\n",
        "notas = np.random.randint(0, 11, size=(4, 3))\n",
        "print(notas)"
      ],
      "metadata": {
        "id": "do2_gzOuOhEh"
      },
      "execution_count": null,
      "outputs": []
    },
    {
      "cell_type": "code",
      "source": [
        "# creando dataframe desde array de numpy\n",
        "asignaturas = ['Matemáticas', 'Historia', 'Ciencias']\n",
        "dt = pd.DataFrame(notas, columns=asignaturas)\n",
        "print(dt)"
      ],
      "metadata": {
        "id": "yeI72QrHPVw5"
      },
      "execution_count": null,
      "outputs": []
    },
    {
      "cell_type": "markdown",
      "source": [
        "## DataFrane desde un archivo CSV"
      ],
      "metadata": {
        "id": "x8cfH0z6MuZw"
      }
    },
    {
      "cell_type": "code",
      "source": [
        "# creando dataframe desde un archivo csv\n",
        "df = pd.read_csv('/content/Spotify_music.csv', encoding='latin-1')\n",
        "print(df.head(10))"
      ],
      "metadata": {
        "id": "K1aCQHVfM4Wf"
      },
      "execution_count": null,
      "outputs": []
    },
    {
      "cell_type": "code",
      "source": [],
      "metadata": {
        "id": "IYPBx728P_sf"
      },
      "execution_count": null,
      "outputs": []
    }
  ]
}